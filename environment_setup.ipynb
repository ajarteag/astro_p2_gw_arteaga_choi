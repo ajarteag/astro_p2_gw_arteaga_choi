{
 "cells": [
  {
   "cell_type": "markdown",
   "metadata": {},
   "source": [
    "### Python Environment Setup\n",
    "\n",
    "This notebook ensures users have the proper python modules installed to run \n",
    "COSMIC code.\n",
    "\n",
    "When running this notebook, make sure to connect to a kernel with Python 3.10.\n"
   ]
  },
  {
   "cell_type": "code",
   "execution_count": null,
   "metadata": {},
   "outputs": [],
   "source": [
    "# Install popular data science / astronomy python modules\n",
    "import sys\n",
    "!{sys.executable} -m pip install numpy matplotlib astropy jupyterlab astroquery"
   ]
  },
  {
   "cell_type": "code",
   "execution_count": null,
   "metadata": {},
   "outputs": [],
   "source": [
    "# Install most stable version of cosmic\n",
    "import sys\n",
    "!{sys.executable} -m pip install cosmic-popsynth"
   ]
  },
  {
   "cell_type": "code",
   "execution_count": 3,
   "metadata": {},
   "outputs": [
    {
     "name": "stdout",
     "output_type": "stream",
     "text": [
      "Name: cosmic-popsynth\n",
      "Version: 3.4.8\n",
      "Summary: Compact Object Synthesis and Monte Carlo Investigation Code\n",
      "Home-page: https://github.com/COSMIC-PopSynth/COSMIC\n",
      "Author: Katie Breivik\n",
      "Author-email: katie.breivik@gmail.com\n",
      "License: GPLv3\n",
      "Location: /Users/ajarteag/opt/anaconda3/envs/astro/lib/python3.10/site-packages\n",
      "Requires: astropy, configparser, h5py, importlib-metadata, matplotlib, numpy, pandas, schwimmbad, scipy, tables, tqdm\n",
      "Required-by: \n"
     ]
    }
   ],
   "source": [
    "# Check version of cosmic installed\n",
    "import sys\n",
    "!{sys.executable} -m pip show cosmic-popsynth"
   ]
  }
 ],
 "metadata": {
  "kernelspec": {
   "display_name": "astro",
   "language": "python",
   "name": "python3"
  },
  "language_info": {
   "codemirror_mode": {
    "name": "ipython",
    "version": 3
   },
   "file_extension": ".py",
   "mimetype": "text/x-python",
   "name": "python",
   "nbconvert_exporter": "python",
   "pygments_lexer": "ipython3",
   "version": "3.10.12"
  },
  "orig_nbformat": 4
 },
 "nbformat": 4,
 "nbformat_minor": 2
}
