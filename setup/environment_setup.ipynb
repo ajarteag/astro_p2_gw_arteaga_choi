{
 "cells": [
  {
   "cell_type": "markdown",
   "metadata": {},
   "source": [
    "### Python Environment Setup\n",
    "\n",
    "This notebook ensures users have the correct python version and proper python\n",
    "modules installed to run any notebooks in this project. \n",
    "\n",
    "Specifically we'll be installing from two sources\n",
    "* [GW Open Data Workshop Software Setup Guide](https://github.com/gw-odw/odw-2021/blob/master/setup.md)\n",
    "* [IGWN Conda Distibution](https://computing.docs.ligo.org/conda/environments/igwn/)\n",
    "\n",
    "The .yaml files used in the above sources should already be in this project under\n",
    "* `setup/linux-64`\n",
    "* `setup/osx-64`\n",
    "* `setup/osx-arm64`\n",
    "\n",
    "To run this setup notebook, you need following requirements on your local machine:\n",
    "* Have conda installed on your machine ([Andaconda](https://www.anaconda.com/download))\n",
    "* Select any python kernel to run the following code cells\n",
    "\n",
    "#### Step 0: Add conda-forge to your channels to access IGWN-specific package dependencies\n",
    "\n",
    "This step can be skipped if you already have conda-forge added to your channels"
   ]
  },
  {
   "cell_type": "code",
   "execution_count": null,
   "metadata": {},
   "outputs": [],
   "source": [
    "# Check if conda-forge is already part of your channels\n",
    "! conda config --show channels"
   ]
  },
  {
   "cell_type": "code",
   "execution_count": null,
   "metadata": {},
   "outputs": [],
   "source": [
    "# If not added, run this cell to get access to conda-forge packages\n",
    "! conda config --add channels conda-forge"
   ]
  },
  {
   "cell_type": "markdown",
   "metadata": {},
   "source": [
    "#### Step 1: Install conda environment on you local machine using the yaml file\n",
    "\n",
    "Use the following cells to install the specific version of the conda enviroment you want.\n",
    "\n",
    "The \"mac\" and \"linux\" versions should correspond to your machine, but they just correspond to the packages you find in your respective platform-specific conda channels. Try to use to one you find appropriate for your machine.\n",
    "\n",
    "The \"official\" versions are heavy weight, and can take half an hour to install.\n",
    "\n",
    "The \"unofficial\" versions are light weight, and should install much faster.\n",
    "\n",
    "You are free to install as many environments as you want, but remember the name of the environment you installed when running the tutorial notebooks."
   ]
  },
  {
   "cell_type": "code",
   "execution_count": null,
   "metadata": {},
   "outputs": [],
   "source": [
    "# Run this cell if you want the official mac distribution (heavy weight, python3.10)\n",
    "! conda env create --file osx-6/4/igwn-py310.yaml"
   ]
  },
  {
   "cell_type": "code",
   "execution_count": null,
   "metadata": {},
   "outputs": [],
   "source": [
    "# Run this cell if you want the unofficial mac distribution (light weight, python3.8)\n",
    "! conda env create --file osx-64/igwn-py38-lw.yaml"
   ]
  },
  {
   "cell_type": "code",
   "execution_count": null,
   "metadata": {},
   "outputs": [],
   "source": [
    "# Run this cell if you want the official linux distribution (heavy weight, python 3.10)\n",
    "! conda env create --file linux-64/igwn-py310.yaml"
   ]
  },
  {
   "cell_type": "code",
   "execution_count": null,
   "metadata": {},
   "outputs": [],
   "source": [
    "# Run this cell if you want the unofficial linux distribution (light weight, python 3.8)\n",
    "! conda env create --file linux-64/igwn-py38-lw.yaml"
   ]
  },
  {
   "cell_type": "markdown",
   "metadata": {},
   "source": [
    "#### Step 2: Check if the IGWN conda environment was installed successfully"
   ]
  },
  {
   "cell_type": "code",
   "execution_count": null,
   "metadata": {},
   "outputs": [],
   "source": [
    "# Run this cell to check if the igwn-[version] environment was installed\n",
    "! conda env list"
   ]
  }
 ],
 "metadata": {
  "kernelspec": {
   "display_name": "astro",
   "language": "python",
   "name": "python3"
  },
  "language_info": {
   "codemirror_mode": {
    "name": "ipython",
    "version": 3
   },
   "file_extension": ".py",
   "mimetype": "text/x-python",
   "name": "python",
   "nbconvert_exporter": "python",
   "pygments_lexer": "ipython3",
   "version": "3.10.12"
  },
  "orig_nbformat": 4
 },
 "nbformat": 4,
 "nbformat_minor": 2
}
