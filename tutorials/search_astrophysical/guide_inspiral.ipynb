{
 "cells": [
  {
   "cell_type": "markdown",
   "metadata": {},
   "source": [
    "# Tutorial: Find an Inspiral\n",
    "\n",
    "We try to find an inspiral from the GW data. This code is taken from the tutorial located at [Tutorial: Find an Inspiral](https://gwosc.org/tutorial06/). We first download the necessary files."
   ]
  },
  {
   "cell_type": "code",
   "execution_count": 2,
   "metadata": {},
   "outputs": [
    {
     "name": "stdout",
     "output_type": "stream",
     "text": [
      "\u001b[m\u001b[m\u001b[m\u001b[m\u001b[m\u001b[m\u001b[m\u001b[m"
     ]
    }
   ],
   "source": [
    "! wget -q -N https://gwosc.org/static/sample_code/data_w_signal.hdf5\n",
    "! wget -q -N https://gwosc.org/static/sample_code/template.hdf5"
   ]
  },
  {
   "cell_type": "code",
   "execution_count": 3,
   "metadata": {},
   "outputs": [],
   "source": [
    "# -- Import python data and plotting packages \n",
    "import numpy as np\n",
    "import matplotlib.pyplot as plt\n",
    "import scipy.signal as sig\n",
    "import h5py\n",
    "\n",
    "# -- Read the data file (16 seconds, sampled at 4096 Hz)\n",
    "fs = 4096\n",
    "\n",
    "dataFile = h5py.File('data_w_signal.hdf5', 'r')\n",
    "data = dataFile['strain/Strain'][...]\n",
    "dataFile.close()\n",
    "time = np.arange(0, 16, 1./fs)\n",
    "\n",
    "# -- Read the template file (1 second, sampled at 4096 Hz)\n",
    "templateFile = h5py.File('template.hdf5', 'r')\n",
    "template = templateFile['strain/Strain'][...]\n",
    "temp_time = np.arange(0, template.size / (1.0*fs), 1./fs)\n",
    "templateFile.close()"
   ]
  },
  {
   "cell_type": "markdown",
   "metadata": {},
   "source": [
    "The signal is somewhere in the first 12 seconds of the data file. Our task is to try and find out where.\n",
    "\n",
    "To get an idea of what we are working with, let's plot the data and the template: "
   ]
  },
  {
   "cell_type": "code",
   "execution_count": null,
   "metadata": {},
   "outputs": [],
   "source": [
    "plt.figure()\n",
    "plt.plot(time,data)\n",
    "plt.xlabel('Time (s)')\n",
    "plt.ylabel('Strain')\n",
    "\n",
    "plt.savefig('./figs/fig0.pdf')\n",
    "\n",
    "plt.clf()\n",
    "\n",
    "plt.plot(temp_time, template)\n",
    "plt.xlabel('Time (s)')\n",
    "plt.ylabel('Strain')\n",
    "plt.title('Template')\n",
    "\n",
    "plt.savefig('./figs/fig1.pdf')\n"
   ]
  },
  {
   "cell_type": "code",
   "execution_count": null,
   "metadata": {},
   "outputs": [],
   "source": []
  }
 ],
 "metadata": {
  "kernelspec": {
   "display_name": "base",
   "language": "python",
   "name": "python3"
  },
  "language_info": {
   "codemirror_mode": {
    "name": "ipython",
    "version": 3
   },
   "file_extension": ".py",
   "mimetype": "text/x-python",
   "name": "python",
   "nbconvert_exporter": "python",
   "pygments_lexer": "ipython3",
   "version": "3.10.12"
  }
 },
 "nbformat": 4,
 "nbformat_minor": 2
}
