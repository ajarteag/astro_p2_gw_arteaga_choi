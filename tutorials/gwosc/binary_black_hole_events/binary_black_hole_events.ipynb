{
 "cells": [
  {
   "cell_type": "markdown",
   "metadata": {},
   "source": [
    "# BINARY BLACK HOLE SIGNALS IN LIGO OPEN DATA\n",
    "\n",
    "This notebook is part of the [GWOSC tutorials](https://gwosc.org/tutorials/) and is adapted from this [github page](https://github.com/losc-tutorial/LOSC_Event_tutorial/blob/master/LOSC_Event_tutorial.ipynb)."
   ]
  },
  {
   "cell_type": "code",
   "execution_count": null,
   "metadata": {
    "vscode": {
     "languageId": "plaintext"
    }
   },
   "outputs": [],
   "source": []
  }
 ],
 "metadata": {
  "language_info": {
   "name": "python"
  }
 },
 "nbformat": 4,
 "nbformat_minor": 2
}
