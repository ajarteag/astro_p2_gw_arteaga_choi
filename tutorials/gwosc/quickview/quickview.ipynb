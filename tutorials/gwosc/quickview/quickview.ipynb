{
 "cells": [
  {
   "cell_type": "markdown",
   "metadata": {},
   "source": [
    "# Quickview Notebook\n",
    "\n",
    "This notebook is part of the [GWOSC tutorials](https://gwosc.org/tutorials/) and is adapted from this [github page](https://github.com/losc-tutorial/quickview/blob/master/index.ipynb).\n",
    "\n",
    "Welcome! This IPython notebook provides a quick look at short segments of data from the [Gravitational Wave Open Science Center](https://gw-osc.org/)\n",
    "\n",
    "* Set the GPS time (t0) and detector in the first cell\n",
    "* Click \"Run All\" in the cell menu at the top\n",
    "* Your plots will appear below"
   ]
  },
  {
   "cell_type": "markdown",
   "metadata": {},
   "source": [
    "### SET PARAMETERS: Detector and GPS time"
   ]
  },
  {
   "cell_type": "code",
   "execution_count": 1,
   "metadata": {},
   "outputs": [],
   "source": [
    "# -- Set a GPS time:\n",
    "t0 = 1126259462.4    # -- GW150914\n",
    "\n",
    "#-- Choose detector as H1, L1, or V1\n",
    "detector = 'H1'"
   ]
  },
  {
   "cell_type": "markdown",
   "metadata": {},
   "source": [
    "You might try some of these examples times in the H1 detector:\n",
    "\n",
    "```\n",
    "t0 = 1126259462.4   # -- GW150914\n",
    "t0 = 1187008882.4   # -- GW170817\n",
    "t0 = 933200215      # -- Loud hardware injection\n",
    "t0 = 1132401286.33  # -- Koi Fish Glitch \n",
    "```"
   ]
  },
  {
   "cell_type": "markdown",
   "metadata": {},
   "source": [
    "### Import some packages"
   ]
  },
  {
   "cell_type": "code",
   "execution_count": 2,
   "metadata": {},
   "outputs": [],
   "source": [
    "import requests, os\n",
    "import matplotlib.pyplot as plt\n",
    "%config InlineBackend.figure_format = 'retina'\n",
    "\n",
    "from gwpy.timeseries import TimeSeries"
   ]
  },
  {
   "cell_type": "markdown",
   "metadata": {},
   "source": [
    "### Query and download data file"
   ]
  },
  {
   "cell_type": "code",
   "execution_count": null,
   "metadata": {},
   "outputs": [],
   "source": [
    "from gwosc.locate import get_urls\n",
    "url = get_urls(detector, t0, t0)[-1]\n",
    "\n",
    "print('Downloading: ' , url)\n",
    "fn = os.path.basename(url)\n",
    "with open(fn,'wb') as strainfile:                 \n",
    "    straindata = requests.get(url)\n",
    "    strainfile.write(straindata.content)"
   ]
  }
 ],
 "metadata": {
  "kernelspec": {
   "display_name": "igwn-py310",
   "language": "python",
   "name": "python3"
  },
  "language_info": {
   "codemirror_mode": {
    "name": "ipython",
    "version": 3
   },
   "file_extension": ".py",
   "mimetype": "text/x-python",
   "name": "python",
   "nbconvert_exporter": "python",
   "pygments_lexer": "ipython3",
   "version": "3.10.13"
  }
 },
 "nbformat": 4,
 "nbformat_minor": 2
}
