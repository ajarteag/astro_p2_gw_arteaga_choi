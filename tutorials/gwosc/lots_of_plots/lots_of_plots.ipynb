{
 "cells": [
  {
   "cell_type": "markdown",
   "metadata": {},
   "source": [
    "# Lots of Plots\n",
    "\n",
    "This notebook is part of the [GWOSC tutorials](https://gwosc.org/tutorials/) and is adapted from this [web page](https://gwosc.org/tutorial05/)."
   ]
  },
  {
   "cell_type": "code",
   "execution_count": null,
   "metadata": {},
   "outputs": [],
   "source": []
  }
 ],
 "metadata": {
  "language_info": {
   "name": "python"
  }
 },
 "nbformat": 4,
 "nbformat_minor": 2
}
