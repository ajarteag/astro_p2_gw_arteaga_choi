{
 "cells": [
  {
   "cell_type": "markdown",
   "metadata": {},
   "source": [
    "### Tutorial - Generate a binary population by hand\n",
    "\n",
    "This notebook follows the \n",
    "[tutorial](https://cosmic-popsynth.github.io/docs/stable/runpop/index.html) \n",
    "provided by COSMIC author Katie Breivik.\n",
    "\n",
    "The process to generate a synthetic binary population, is similar to the process \n",
    "to evolve a single/multiple binaries by hand: first generate an initial \n",
    "population, then evolve it with the `Evolve` class.\n",
    "\n",
    "An initialized binary population consists of a collection of binary systems with \n",
    "assigned primary and secondary masses, orbital periods, eccentricities, \n",
    "metallicities, and star formation histories. These parameters are randomly \n",
    "sampled from observationally motivated distribution functions.\n",
    "\n",
    "In COSMIC, the initial sample is done through an initial binary sampler which \n",
    "works with the `InitialBinaryTable` class. There are two samplers available:\n",
    "\n",
    "1. *independent* : initialize binaries with independent parameter distributions \n",
    "for the primary mass, mass ratio, eccentricity, separation, and binary fraction\n",
    "\n",
    "2. *multidim* : initialize binaries with multidimensional parameter \n",
    "distributions according to \n",
    "[Moe & Di Stefano 2017](https://ui.adsabs.harvard.edu/abs/2017ApJS..230...15M/abstract)\n",
    "\n",
    "We consider both cases below.\n",
    "\n",
    "### independent\n",
    "\n",
    "First import the `InitialBinaryTable` class and the independent sampler"
   ]
  },
  {
   "cell_type": "code",
   "execution_count": 1,
   "metadata": {
    "is_executing": true
   },
   "outputs": [],
   "source": [
    "from cosmic.sample.initialbinarytable import InitialBinaryTable\n",
    "from cosmic.sample.sampler import independent"
   ]
  },
  {
   "cell_type": "markdown",
   "metadata": {},
   "source": [
    "The `independent` sampler contains multiple models for each binary parameter. \n",
    "You can access the available models using the `independent` sampler help call:"
   ]
  },
  {
   "cell_type": "code",
   "execution_count": 2,
   "metadata": {
    "is_executing": true
   },
   "outputs": [
    {
     "name": "stdout",
     "output_type": "stream",
     "text": [
      "Help on function get_independent_sampler in module cosmic.sample.sampler.independent:\n",
      "\n",
      "get_independent_sampler(final_kstar1, final_kstar2, primary_model, ecc_model, porb_model, SF_start, SF_duration, binfrac_model, met, size, **kwargs)\n",
      "    Generates an initial binary sample according to user specified models\n",
      "    \n",
      "    Parameters\n",
      "    ----------\n",
      "    final_kstar1 : `int or list`\n",
      "        Int or list of final kstar1\n",
      "    \n",
      "    final_kstar2 : `int or list`\n",
      "        Int or list of final kstar2\n",
      "    \n",
      "    primary_model : `str`\n",
      "        Model to sample primary mass; choices include: kroupa93, kroupa01, salpeter55, custom\n",
      "        if 'custom' is selected, must also pass arguemts:\n",
      "        alphas : `array`\n",
      "            list of power law indicies\n",
      "        mcuts : `array`\n",
      "            breaks in the power laws.\n",
      "        e.g. alphas=[-1.3,-2.3,-2.3],mcuts=[0.08,0.5,1.0,150.] reproduces standard Kroupa2001 IMF\n",
      "    \n",
      "    ecc_model : `str`\n",
      "        Model to sample eccentricity; choices include: thermal, uniform, sana12\n",
      "    \n",
      "    porb_model : `str`\n",
      "        Model to sample orbital period; choices include: log_uniform, sana12\n",
      "    \n",
      "    qmin : `float`\n",
      "        kwarg which sets the minimum mass ratio for sampling the secondary\n",
      "        where the mass ratio distribution is flat in q\n",
      "        if q > 0, qmin sets the minimum mass ratio\n",
      "        q = -1, this limits the minimum mass ratio to be set such that\n",
      "        the pre-MS lifetime of the secondary is not longer than the full\n",
      "        lifetime of the primary if it were to evolve as a single star\n",
      "    \n",
      "    m_max : `float`\n",
      "        kwarg which sets the maximum primary and secondary mass for sampling\n",
      "        NOTE: this value changes the range of the IMF and should *not* be used\n",
      "            as a means of selecting certain kstar types!\n",
      "    \n",
      "    m1_min : `float`\n",
      "        kwarg which sets the minimum primary mass for sampling\n",
      "        NOTE: this value changes the range of the IMF and should *not* be used\n",
      "            as a means of selecting certain kstar types!\n",
      "    \n",
      "    m2_min : `float`\n",
      "        kwarg which sets the minimum secondary mass for sampling\n",
      "        the secondary as uniform in mass_2 between m2_min and mass_1\n",
      "    \n",
      "    msort : `float`\n",
      "        Stars with M>msort can have different pairing and sampling of companions\n",
      "    \n",
      "    qmin_msort : `float`\n",
      "        Same as qmin for M>msort\n",
      "    \n",
      "    m2_min_msort : `float`\n",
      "        Same as m2_min for M>msort\n",
      "    \n",
      "    SF_start : `float`\n",
      "        Time in the past when star formation initiates in Myr\n",
      "    \n",
      "    SF_duration : `float`\n",
      "        Duration of constant star formation beginning from SF_Start in Myr\n",
      "    \n",
      "    binfrac_model : `str or float`\n",
      "        Model for binary fraction; choices include: vanHaaften or a fraction where 1.0 is 100% binaries\n",
      "    \n",
      "    binfrac_model_msort : `str or float`\n",
      "        Same as binfrac_model for M>msort\n",
      "    \n",
      "    met : `float`\n",
      "        Sets the metallicity of the binary population where solar metallicity is zsun\n",
      "    \n",
      "    size : `int`\n",
      "        Size of the population to sample\n",
      "    \n",
      "    zsun : `float`\n",
      "        optional kwarg for setting effective radii, default is 0.02\n",
      "    \n",
      "    Returns\n",
      "    -------\n",
      "    InitialBinaryTable : `pandas.DataFrame`\n",
      "        DataFrame in the format of the InitialBinaryTable\n",
      "    \n",
      "    mass_singles : `float`\n",
      "        Total mass in single stars needed to generate population\n",
      "    \n",
      "    mass_binaries : `float`\n",
      "        Total mass in binaries needed to generate population\n",
      "    \n",
      "    n_singles : `int`\n",
      "        Number of single stars needed to generate a population\n",
      "    \n",
      "    n_binaries : `int`\n",
      "        Number of binaries needed to generate a population\n",
      "\n"
     ]
    }
   ],
   "source": [
    "help(independent.get_independent_sampler)"
   ]
  },
  {
   "cell_type": "markdown",
   "metadata": {},
   "source": [
    "The `final_kstar1` and `final_kstar2` parameters are lists that contain the \n",
    "kstar types that you would like the final population to contain.\n",
    "\n",
    "The final kstar is the final state of the binary system we are interested in and \n",
    "is based on the BSE kstar naming convention, see \n",
    "[Evolutionary State of the Star](https://cosmic-popsynth.github.io/docs/stable/output_info/index.html#kstar-table) \n",
    "for more information.\n",
    "\n",
    "Thus, if you want to generate a population containing double white dwarfs with \n",
    "CO and ONe WD primaries and He-WD secondaries, the final kstar inputs would be:"
   ]
  },
  {
   "cell_type": "code",
   "execution_count": 3,
   "metadata": {
    "is_executing": true
   },
   "outputs": [],
   "source": [
    "final_kstar1 = [11, 12] \n",
    "final_kstar2 = [10]"
   ]
  },
  {
   "cell_type": "markdown",
   "metadata": {},
   "source": [
    "Similar to the help for the sampler, the different models that can be used for \n",
    "each parameter to be sampled can be accessed by the help function for the \n",
    "argument. The syntax for each parameter sample is always: sample_'parameter'. \n",
    "See the example for the star formation history (SFH) below:"
   ]
  },
  {
   "cell_type": "code",
   "execution_count": 4,
   "metadata": {
    "is_executing": true
   },
   "outputs": [
    {
     "name": "stdout",
     "output_type": "stream",
     "text": [
      "Help on function sample_SFH in module cosmic.sample.sampler.independent:\n",
      "\n",
      "sample_SFH(self, SF_start=13700.0, SF_duration=0.0, met=0.02, size=None)\n",
      "    Sample an evolution time for each binary based on a user-specified\n",
      "    time at the start of star formation and the duration of star formation.\n",
      "    The default is a burst of star formation 13,700 Myr in the past.\n",
      "    \n",
      "    Parameters\n",
      "    ----------\n",
      "    SF_start : float\n",
      "        Time in the past when star formation initiates in Myr\n",
      "    SF_duration : float\n",
      "        Duration of constant star formation beginning from SF_Start in Myr\n",
      "    met : float\n",
      "        metallicity of the population [Z_sun = 0.02]\n",
      "        Default: 0.02\n",
      "    size : int, optional\n",
      "        number of evolution times to sample\n",
      "        NOTE: this is set in cosmic-pop call as Nstep\n",
      "    \n",
      "    Returns\n",
      "    -------\n",
      "    tphys : array\n",
      "        array of evolution times of size=size\n",
      "    metallicity : array\n",
      "        array of metallicities\n",
      "\n"
     ]
    }
   ],
   "source": [
    "help(independent.Sample.sample_SFH)"
   ]
  },
  {
   "cell_type": "markdown",
   "metadata": {},
   "source": [
    "Using the final kstar inputs above, the initial binary population is sampled as:"
   ]
  },
  {
   "cell_type": "code",
   "execution_count": 5,
   "metadata": {
    "is_executing": true
   },
   "outputs": [
    {
     "name": "stdout",
     "output_type": "stream",
     "text": [
      "       kstar_1  kstar_2    mass_1    mass_2         porb       ecc  \\\n",
      "0          1.0      1.0  6.937819  5.016688  6194.972108  0.571817   \n",
      "1          1.0      1.0  1.054708  0.876962     1.471888  0.085622   \n",
      "2          1.0      1.0  1.361050  1.322399     2.771313  0.287468   \n",
      "3          1.0      1.0  6.185087  5.742121   175.885756  0.895057   \n",
      "4          1.0      1.0  7.028671  3.484833    18.127806  0.009407   \n",
      "...        ...      ...       ...       ...          ...       ...   \n",
      "10397      1.0      0.0  0.868077  0.681154   171.311951  0.376490   \n",
      "10398      1.0      1.0  8.810424  3.836585     3.802050  0.040360   \n",
      "10399      1.0      1.0  1.061403  0.948733     5.975174  0.247322   \n",
      "10400      1.0      0.0  1.493910  0.689184  5177.858463  0.001071   \n",
      "10401      1.0      0.0  0.925118  0.516114   757.152708  0.069111   \n",
      "\n",
      "       metallicity   tphysf   mass0_1   mass0_2  ...  tacc_1  tacc_2  epoch_1  \\\n",
      "0             0.02  13700.0  6.937819  5.016688  ...     0.0     0.0      0.0   \n",
      "1             0.02  13700.0  1.054708  0.876962  ...     0.0     0.0      0.0   \n",
      "2             0.02  13700.0  1.361050  1.322399  ...     0.0     0.0      0.0   \n",
      "3             0.02  13700.0  6.185087  5.742121  ...     0.0     0.0      0.0   \n",
      "4             0.02  13700.0  7.028671  3.484833  ...     0.0     0.0      0.0   \n",
      "...            ...      ...       ...       ...  ...     ...     ...      ...   \n",
      "10397         0.02  13700.0  0.868077  0.681154  ...     0.0     0.0      0.0   \n",
      "10398         0.02  13700.0  8.810424  3.836585  ...     0.0     0.0      0.0   \n",
      "10399         0.02  13700.0  1.061403  0.948733  ...     0.0     0.0      0.0   \n",
      "10400         0.02  13700.0  1.493910  0.689184  ...     0.0     0.0      0.0   \n",
      "10401         0.02  13700.0  0.925118  0.516114  ...     0.0     0.0      0.0   \n",
      "\n",
      "       epoch_2  tms_1  tms_2  bhspin_1  bhspin_2  tphys  binfrac  \n",
      "0          0.0    0.0    0.0       0.0       0.0    0.0      0.5  \n",
      "1          0.0    0.0    0.0       0.0       0.0    0.0      0.5  \n",
      "2          0.0    0.0    0.0       0.0       0.0    0.0      0.5  \n",
      "3          0.0    0.0    0.0       0.0       0.0    0.0      0.5  \n",
      "4          0.0    0.0    0.0       0.0       0.0    0.0      0.5  \n",
      "...        ...    ...    ...       ...       ...    ...      ...  \n",
      "10397      0.0    0.0    0.0       0.0       0.0    0.0      0.5  \n",
      "10398      0.0    0.0    0.0       0.0       0.0    0.0      0.5  \n",
      "10399      0.0    0.0    0.0       0.0       0.0    0.0      0.5  \n",
      "10400      0.0    0.0    0.0       0.0       0.0    0.0      0.5  \n",
      "10401      0.0    0.0    0.0       0.0       0.0    0.0      0.5  \n",
      "\n",
      "[10402 rows x 38 columns]\n"
     ]
    }
   ],
   "source": [
    "InitialBinaries, mass_singles, mass_binaries, n_singles, n_binaries = InitialBinaryTable.sampler(\n",
    "    'independent', \n",
    "    final_kstar1, \n",
    "    final_kstar2, \n",
    "    binfrac_model=0.5, \n",
    "    primary_model='kroupa01', \n",
    "    ecc_model='sana12', \n",
    "    porb_model='sana12', \n",
    "    qmin=-1, m2_min=0.08, \n",
    "    SF_start=13700.0, \n",
    "    SF_duration=0.0, \n",
    "    met=0.02, \n",
    "    size=10000\n",
    ")\n",
    "\n",
    "print(InitialBinaries)"
   ]
  },
  {
   "cell_type": "markdown",
   "metadata": {},
   "source": [
    "NOTE: the length of the initial binary data set, `InitialBinaries`, does not \n",
    "always match the size parameter provided to `InitialBinaryTable.sampler`. This \n",
    "is because the sampler accounts for a binary fraction specified by the user with \n",
    "the `binfrac_model` parameter, which is either a fraction between 0 and 1 or \n",
    "mass dependent following the prescription in \n",
    "[van Haaften+2013](http://adsabs.harvard.edu/abs/2012A%26A...537A.104V).\n",
    "\n",
    "If you want to have separate binary fractions and mass pairings for low and high \n",
    "mass stars, you can by supplying the `msort` kwarg to the sampler. This sets the \n",
    "mass above which an alternative mass pairing (specified by kwargs `qmin_msort` \n",
    "and `m2_min_msort`) and binary fraction model (specified by kwarg \n",
    "`binfrac_model_msort`) are used. This is handy if you want, for example, a \n",
    "higher binary fraction and more equal mass pairings for high mass stars.\n",
    "\n",
    "Since we are interested in binaries, we only retain the binary systems that are \n",
    "likely to produce the user specified final kstar types. However, we also keep \n",
    "track of the total mass of the single and binary stars as well as the number of \n",
    "binary and single stars so that we can scale our results to larger populations. \n",
    "If you don’t want to filter the binaries, you can supply final kstars as"
   ]
  },
  {
   "cell_type": "code",
   "execution_count": 6,
   "metadata": {
    "is_executing": true
   },
   "outputs": [],
   "source": [
    "import numpy as np\n",
    "\n",
    "final_kstars = np.linspace(0, 14, 15)\n",
    "\n",
    "InitialBinaries, mass_singles, mass_binaries, n_singles, n_binaries = InitialBinaryTable.sampler(\n",
    "    'independent', \n",
    "    final_kstars, \n",
    "    final_kstars, \n",
    "    binfrac_model=0.5, \n",
    "    primary_model='kroupa01', \n",
    "    ecc_model='sana12', \n",
    "    porb_model='sana12', \n",
    "    qmin=-1, \n",
    "    m2_min=0.08, \n",
    "    SF_start=13700.0, \n",
    "    SF_duration=0.0, \n",
    "    met=0.02, \n",
    "    size=10000\n",
    ")"
   ]
  },
  {
   "cell_type": "markdown",
   "metadata": {},
   "source": [
    "### multidim\n",
    "\n",
    "COSMIC implements multidimensionally distributed initial binaries according to \n",
    "[Moe & Di Stefano 2017](https://ui.adsabs.harvard.edu/abs/2017ApJS..230...15M/abstract). \n",
    "The python code used in COSMIC to create this sample was written by Mads Sorenson, and is based on the IDL codes written to accompany Moe & Di Stefano 2017."
   ]
  }
 ],
 "metadata": {
  "kernelspec": {
   "display_name": "astro",
   "language": "python",
   "name": "python3"
  },
  "language_info": {
   "codemirror_mode": {
    "name": "ipython",
    "version": 3
   },
   "file_extension": ".py",
   "mimetype": "text/x-python",
   "name": "python",
   "nbconvert_exporter": "python",
   "pygments_lexer": "ipython3",
   "version": "3.10.12"
  },
  "orig_nbformat": 4
 },
 "nbformat": 4,
 "nbformat_minor": 2
}
