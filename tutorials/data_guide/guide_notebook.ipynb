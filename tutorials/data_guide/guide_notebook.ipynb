{
 "cells": [
  {
   "cell_type": "markdown",
   "metadata": {},
   "source": [
    "### Notebook to accompany \"A guide to LIGO-Virgo detector noise\"\n",
    "\n",
    "This notebook is intended to reproduce some plots from the paper \"A guide to LIGO-Virgo detector noise and extratraction of transient gravitational-wave signals\" (arXiv:1908.11170)\n",
    "\n",
    "This notebook is intended as an educational demonstration to reproduce some of the figures in the paper [\"A guide to LIGO-Virgo detector noise and extraction of transient gravitational-wave signals\"](https://inspirehep.net/record/1751757) , and may differ from the [C library code](https://doi.org/10.5281/zenodo.3380539) that has been used to produce the figures of the paper. \n",
    "Additional open source software libraries used by the LIGO Scientific Collaboration and Virgo Collaboration to produce published results are also available. \n",
    "See, for example, the list of open source libraries at https://www.gw-openscience.org/software/"
   ]
  },
  {
   "cell_type": "markdown",
   "metadata": {},
   "source": [
    "#### Python Environment\n",
    "\n",
    "Make sure to select the kernel to be the IGWN conda environment created in the `environment_setup.ipynb`.\n",
    "\n",
    "In VSCode select: *Select Kernel* > *Select Another Kernel...* > *Python Environments...* > *igwn-[version]*"
   ]
  },
  {
   "cell_type": "markdown",
   "metadata": {},
   "source": [
    "#### Download data files\n",
    "\n",
    "Download each of the following files into the directory where you would like to run the notebook. \n",
    "Most of these data files are described at:\n",
    "\n",
    "https://www.gw-openscience.org/events/GW150914/"
   ]
  },
  {
   "cell_type": "code",
   "execution_count": 1,
   "metadata": {},
   "outputs": [],
   "source": [
    "# -- Helper python module to open LIGO data files\n",
    "! wget -q -N https://www.gw-openscience.org/static/sample_code/readligo.py "
   ]
  },
  {
   "cell_type": "code",
   "execution_count": 1,
   "metadata": {},
   "outputs": [],
   "source": [
    "# -- Download 4096 second data files around GW150914\n",
    "! wget -q -N https://www.gw-openscience.org/GW150914data/L-L1_LOSC_4_V2-1126257414-4096.hdf5\n",
    "! wget -q -N https://www.gw-openscience.org/GW150914data/H-H1_LOSC_4_V2-1126257414-4096.hdf5"
   ]
  },
  {
   "cell_type": "code",
   "execution_count": null,
   "metadata": {},
   "outputs": [],
   "source": [
    "# -- Download 32 second data files around GW150914\n",
    "! wget -q -N https://www.gw-openscience.org/GW150914data/H-H1_LOSC_4_V2-1126259446-32.hdf5\n",
    "! wget -q -N https://www.gw-openscience.org/GW150914data/L-L1_LOSC_4_V2-1126259446-32.hdf5"
   ]
  },
  {
   "cell_type": "code",
   "execution_count": null,
   "metadata": {},
   "outputs": [],
   "source": [
    "# -- Download waveform template\n",
    "! wget -q -N https://www.gw-openscience.org/GW150914data/P150914/fig2-unfiltered-waveform-H.txt"
   ]
  },
  {
   "cell_type": "code",
   "execution_count": null,
   "metadata": {},
   "outputs": [],
   "source": [
    "# -- Download data from Figure 1 of GW150914 detection paper\n",
    "! wget -q -N https://www.gw-openscience.org/GW150914data/P150914/fig1-observed-H.txt\n",
    "! wget -q -N https://www.gw-openscience.org/GW150914data/P150914/fig1-residual-H.txt\n",
    "! wget -q -N https://www.gw-openscience.org/GW150914data/P150914/fig1-observed-L.txt\n",
    "! wget -q -N https://www.gw-openscience.org/GW150914data/P150914/fig1-residual-L.txt"
   ]
  },
  {
   "cell_type": "markdown",
   "metadata": {},
   "source": [
    "#### Import needed python modules\n",
    "\n",
    "Most of these are common python packages, and all should be in the IGWN environment."
   ]
  },
  {
   "cell_type": "code",
   "execution_count": 1,
   "metadata": {},
   "outputs": [],
   "source": [
    "# Standard python numerical analysis imports:\n",
    "import numpy as np\n",
    "import scipy\n",
    "from scipy import signal\n",
    "from scipy.interpolate import interp1d\n",
    "from scipy.signal import butter, filtfilt\n",
    "import h5py\n",
    "import json\n",
    "\n",
    "# plotting items\n",
    "%matplotlib inline\n",
    "import matplotlib\n",
    "import matplotlib.pyplot as plt\n",
    "import matplotlib.mlab as mlab\n",
    "\n",
    "# -- Set some parameters that control how plots are displayed\n",
    "plt.rcParams['figure.figsize'] = [5, 3]\n",
    "plt.rcParams['lines.linewidth'] = .75\n",
    "\n",
    "# LIGO-specific readligo.py \n",
    "# Download from https://www.gw-openscience.org/static/sample_code/readligo.py\n",
    "import readligo as rl"
   ]
  }
 ],
 "metadata": {
  "kernelspec": {
   "display_name": "astro",
   "language": "python",
   "name": "python3"
  },
  "language_info": {
   "codemirror_mode": {
    "name": "ipython",
    "version": 3
   },
   "file_extension": ".py",
   "mimetype": "text/x-python",
   "name": "python",
   "nbconvert_exporter": "python",
   "pygments_lexer": "ipython3",
   "version": "3.10.13"
  }
 },
 "nbformat": 4,
 "nbformat_minor": 2
}
