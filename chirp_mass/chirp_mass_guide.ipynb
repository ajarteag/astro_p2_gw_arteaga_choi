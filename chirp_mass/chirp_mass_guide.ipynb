{
 "cells": [
  {
   "cell_type": "code",
   "execution_count": 12,
   "metadata": {},
   "outputs": [
    {
     "name": "stdout",
     "output_type": "stream",
     "text": [
      "Requirement already satisfied: gwpy in /home/user/Documents/mambaforge/lib/python3.10/site-packages (3.0.7)\n",
      "Requirement already satisfied: astropy>=4.3.0 in /home/user/Documents/mambaforge/lib/python3.10/site-packages (from gwpy) (5.3.1)\n",
      "Requirement already satisfied: dqsegdb2 in /home/user/Documents/mambaforge/lib/python3.10/site-packages (from gwpy) (1.2.1)\n",
      "Requirement already satisfied: gwdatafind>=1.1.0 in /home/user/Documents/mambaforge/lib/python3.10/site-packages (from gwpy) (1.1.3)\n",
      "Requirement already satisfied: gwosc>=0.5.3 in /home/user/Documents/mambaforge/lib/python3.10/site-packages (from gwpy) (0.7.1)\n",
      "Requirement already satisfied: h5py>=3.0.0 in /home/user/Documents/mambaforge/lib/python3.10/site-packages (from gwpy) (3.9.0)\n",
      "Requirement already satisfied: ligo-segments>=1.0.0 in /home/user/Documents/mambaforge/lib/python3.10/site-packages (from gwpy) (1.4.0)\n",
      "Requirement already satisfied: ligotimegps>=1.2.1 in /home/user/Documents/mambaforge/lib/python3.10/site-packages (from gwpy) (2.0.1)\n",
      "Requirement already satisfied: matplotlib>=3.3.0 in /home/user/Documents/mambaforge/lib/python3.10/site-packages (from gwpy) (3.7.2)\n",
      "Requirement already satisfied: numpy>=1.19 in /home/user/.local/lib/python3.10/site-packages (from gwpy) (1.24.2)\n",
      "Requirement already satisfied: python-dateutil in /home/user/.local/lib/python3.10/site-packages (from gwpy) (2.8.2)\n",
      "Requirement already satisfied: requests in /home/user/Documents/mambaforge/lib/python3.10/site-packages (from gwpy) (2.31.0)\n",
      "Requirement already satisfied: scipy>=1.5.0 in /home/user/.local/lib/python3.10/site-packages (from gwpy) (1.10.1)\n",
      "Requirement already satisfied: tqdm>=4.10.0 in /home/user/.local/lib/python3.10/site-packages (from gwpy) (4.65.0)\n",
      "Requirement already satisfied: pyerfa>=2.0 in /home/user/Documents/mambaforge/lib/python3.10/site-packages (from astropy>=4.3.0->gwpy) (2.0.0.3)\n",
      "Requirement already satisfied: PyYAML>=3.13 in /home/user/Documents/mambaforge/lib/python3.10/site-packages (from astropy>=4.3.0->gwpy) (6.0)\n",
      "Requirement already satisfied: packaging>=19.0 in /home/user/.local/lib/python3.10/site-packages (from astropy>=4.3.0->gwpy) (23.2)\n",
      "Requirement already satisfied: igwn-auth-utils>=0.3.1 in /home/user/Documents/mambaforge/lib/python3.10/site-packages (from gwdatafind>=1.1.0->gwpy) (1.1.0)\n",
      "Requirement already satisfied: six in /home/user/Documents/mambaforge/lib/python3.10/site-packages (from ligo-segments>=1.0.0->gwpy) (1.16.0)\n",
      "Requirement already satisfied: contourpy>=1.0.1 in /home/user/.local/lib/python3.10/site-packages (from matplotlib>=3.3.0->gwpy) (1.0.7)\n",
      "Requirement already satisfied: cycler>=0.10 in /home/user/.local/lib/python3.10/site-packages (from matplotlib>=3.3.0->gwpy) (0.11.0)\n",
      "Requirement already satisfied: fonttools>=4.22.0 in /home/user/.local/lib/python3.10/site-packages (from matplotlib>=3.3.0->gwpy) (4.39.3)\n",
      "Requirement already satisfied: kiwisolver>=1.0.1 in /home/user/.local/lib/python3.10/site-packages (from matplotlib>=3.3.0->gwpy) (1.4.4)\n",
      "Requirement already satisfied: pillow>=6.2.0 in /home/user/.local/lib/python3.10/site-packages (from matplotlib>=3.3.0->gwpy) (9.5.0)\n",
      "Requirement already satisfied: pyparsing<3.1,>=2.3.1 in /home/user/.local/lib/python3.10/site-packages (from matplotlib>=3.3.0->gwpy) (3.0.9)\n",
      "Requirement already satisfied: charset-normalizer<4,>=2 in /home/user/Documents/mambaforge/lib/python3.10/site-packages (from requests->gwpy) (3.2.0)\n",
      "Requirement already satisfied: idna<4,>=2.5 in /home/user/Documents/mambaforge/lib/python3.10/site-packages (from requests->gwpy) (3.4)\n",
      "Requirement already satisfied: urllib3<3,>=1.21.1 in /home/user/Documents/mambaforge/lib/python3.10/site-packages (from requests->gwpy) (2.0.3)\n",
      "Requirement already satisfied: certifi>=2017.4.17 in /home/user/Documents/mambaforge/lib/python3.10/site-packages (from requests->gwpy) (2023.7.22)\n",
      "Requirement already satisfied: cryptography>=2.3 in /home/user/Documents/mambaforge/lib/python3.10/site-packages (from igwn-auth-utils>=0.3.1->gwdatafind>=1.1.0->gwpy) (41.0.2)\n",
      "Requirement already satisfied: safe-netrc>=1.0.0 in /home/user/Documents/mambaforge/lib/python3.10/site-packages (from igwn-auth-utils>=0.3.1->gwdatafind>=1.1.0->gwpy) (1.0.1)\n",
      "Requirement already satisfied: scitokens>=1.7.0 in /home/user/Documents/mambaforge/lib/python3.10/site-packages (from igwn-auth-utils>=0.3.1->gwdatafind>=1.1.0->gwpy) (1.8.1)\n",
      "Requirement already satisfied: cffi>=1.12 in /home/user/Documents/mambaforge/lib/python3.10/site-packages (from cryptography>=2.3->igwn-auth-utils>=0.3.1->gwdatafind>=1.1.0->gwpy) (1.15.1)\n",
      "Requirement already satisfied: PyJWT>=1.6.1 in /home/user/Documents/mambaforge/lib/python3.10/site-packages (from scitokens>=1.7.0->igwn-auth-utils>=0.3.1->gwdatafind>=1.1.0->gwpy) (2.8.0)\n",
      "Requirement already satisfied: pycparser in /home/user/Documents/mambaforge/lib/python3.10/site-packages (from cffi>=1.12->cryptography>=2.3->igwn-auth-utils>=0.3.1->gwdatafind>=1.1.0->gwpy) (2.21)\n",
      "Note: you may need to restart the kernel to use updated packages.\n"
     ]
    }
   ],
   "source": [
    "%pip install gwpy"
   ]
  },
  {
   "cell_type": "code",
   "execution_count": 22,
   "metadata": {},
   "outputs": [],
   "source": [
    "import numpy as np\n",
    "import matplotlib.pyplot as plt\n",
    "import scipy"
   ]
  },
  {
   "cell_type": "code",
   "execution_count": null,
   "metadata": {},
   "outputs": [],
   "source": [
    "x = "
   ]
  },
  {
   "cell_type": "code",
   "execution_count": 21,
   "metadata": {},
   "outputs": [
    {
     "ename": "ModuleNotFoundError",
     "evalue": "No module named 'nds2'",
     "output_type": "error",
     "traceback": [
      "\u001b[0;31m---------------------------------------------------------------------------\u001b[0m",
      "\u001b[0;31mModuleNotFoundError\u001b[0m                       Traceback (most recent call last)",
      "\u001b[1;32m/home/user/Desktop/School/Courses/Sem7/Astro/astro_p2_gw_arteaga_choi/tutorials/chrip_mass/chirp_mass_guide.ipynb Cell 3\u001b[0m line \u001b[0;36m2\n\u001b[1;32m      <a href='vscode-notebook-cell:/home/user/Desktop/School/Courses/Sem7/Astro/astro_p2_gw_arteaga_choi/tutorials/chrip_mass/chirp_mass_guide.ipynb#W0sZmlsZQ%3D%3D?line=0'>1</a>\u001b[0m \u001b[39mfrom\u001b[39;00m \u001b[39mgwpy\u001b[39;00m\u001b[39m.\u001b[39;00m\u001b[39mtimeseries\u001b[39;00m \u001b[39mimport\u001b[39;00m TimeSeries\n\u001b[0;32m----> <a href='vscode-notebook-cell:/home/user/Desktop/School/Courses/Sem7/Astro/astro_p2_gw_arteaga_choi/tutorials/chrip_mass/chirp_mass_guide.ipynb#W0sZmlsZQ%3D%3D?line=1'>2</a>\u001b[0m gwdata \u001b[39m=\u001b[39m TimeSeries\u001b[39m.\u001b[39;49mget(\u001b[39m'\u001b[39;49m\u001b[39mH1:LDAS-STRAIN\u001b[39;49m\u001b[39m'\u001b[39;49m, \u001b[39m'\u001b[39;49m\u001b[39mSeptember 16 2010 06:40\u001b[39;49m\u001b[39m'\u001b[39;49m,\u001b[39m'\u001b[39;49m\u001b[39mSeptember 16 2010 06:50\u001b[39;49m\u001b[39m'\u001b[39;49m)\n\u001b[1;32m      <a href='vscode-notebook-cell:/home/user/Desktop/School/Courses/Sem7/Astro/astro_p2_gw_arteaga_choi/tutorials/chrip_mass/chirp_mass_guide.ipynb#W0sZmlsZQ%3D%3D?line=2'>3</a>\u001b[0m specgram \u001b[39m=\u001b[39m gwdata\u001b[39m.\u001b[39mspectrogram(\u001b[39m20\u001b[39m, fftlength\u001b[39m=\u001b[39m\u001b[39m8\u001b[39m, overlap\u001b[39m=\u001b[39m\u001b[39m4\u001b[39m) \u001b[39m*\u001b[39m\u001b[39m*\u001b[39m (\u001b[39m1\u001b[39m\u001b[39m/\u001b[39m\u001b[39m2.\u001b[39m)\n\u001b[1;32m      <a href='vscode-notebook-cell:/home/user/Desktop/School/Courses/Sem7/Astro/astro_p2_gw_arteaga_choi/tutorials/chrip_mass/chirp_mass_guide.ipynb#W0sZmlsZQ%3D%3D?line=4'>5</a>\u001b[0m plot \u001b[39m=\u001b[39m specgram\u001b[39m.\u001b[39mplot(norm\u001b[39m=\u001b[39m\u001b[39m'\u001b[39m\u001b[39mlog\u001b[39m\u001b[39m'\u001b[39m, vmin\u001b[39m=\u001b[39m\u001b[39m1e-23\u001b[39m, vmax\u001b[39m=\u001b[39m\u001b[39m1e-19\u001b[39m)\n",
      "File \u001b[0;32m~/Documents/mambaforge/lib/python3.10/site-packages/gwpy/timeseries/core.py:594\u001b[0m, in \u001b[0;36mTimeSeriesBase.get\u001b[0;34m(cls, channel, start, end, pad, scaled, dtype, verbose, allow_tape, **kwargs)\u001b[0m\n\u001b[1;32m    537\u001b[0m \u001b[39m@classmethod\u001b[39m\n\u001b[1;32m    538\u001b[0m \u001b[39mdef\u001b[39;00m \u001b[39mget\u001b[39m(\u001b[39mcls\u001b[39m, channel, start, end, pad\u001b[39m=\u001b[39m\u001b[39mNone\u001b[39;00m, scaled\u001b[39m=\u001b[39m\u001b[39mNone\u001b[39;00m,\n\u001b[1;32m    539\u001b[0m         dtype\u001b[39m=\u001b[39m\u001b[39mNone\u001b[39;00m, verbose\u001b[39m=\u001b[39m\u001b[39mFalse\u001b[39;00m, allow_tape\u001b[39m=\u001b[39m\u001b[39mNone\u001b[39;00m, \u001b[39m*\u001b[39m\u001b[39m*\u001b[39mkwargs):\n\u001b[1;32m    540\u001b[0m \u001b[39m    \u001b[39m\u001b[39m\"\"\"Get data for this channel from frames or NDS\u001b[39;00m\n\u001b[1;32m    541\u001b[0m \n\u001b[1;32m    542\u001b[0m \u001b[39m    This method dynamically accesses either frames on disk, or a\u001b[39;00m\n\u001b[0;32m   (...)\u001b[0m\n\u001b[1;32m    592\u001b[0m \u001b[39m        for discovering and reading data from local GWF files\u001b[39;00m\n\u001b[1;32m    593\u001b[0m \u001b[39m    \"\"\"\u001b[39;00m\n\u001b[0;32m--> 594\u001b[0m     \u001b[39mreturn\u001b[39;00m \u001b[39mcls\u001b[39;49m\u001b[39m.\u001b[39;49mDictClass\u001b[39m.\u001b[39;49mget(\n\u001b[1;32m    595\u001b[0m         [channel], start, end, pad\u001b[39m=\u001b[39;49mpad, scaled\u001b[39m=\u001b[39;49mscaled, dtype\u001b[39m=\u001b[39;49mdtype,\n\u001b[1;32m    596\u001b[0m         verbose\u001b[39m=\u001b[39;49mverbose, allow_tape\u001b[39m=\u001b[39;49mallow_tape, \u001b[39m*\u001b[39;49m\u001b[39m*\u001b[39;49mkwargs)[\u001b[39mstr\u001b[39m(channel)]\n",
      "File \u001b[0;32m~/Documents/mambaforge/lib/python3.10/site-packages/gwpy/timeseries/core.py:1413\u001b[0m, in \u001b[0;36mTimeSeriesBaseDict.get\u001b[0;34m(cls, channels, start, end, pad, scaled, dtype, verbose, allow_tape, **kwargs)\u001b[0m\n\u001b[1;32m   1411\u001b[0m \u001b[39m# otherwise fetch from NDS\u001b[39;00m\n\u001b[1;32m   1412\u001b[0m \u001b[39mtry\u001b[39;00m:\n\u001b[0;32m-> 1413\u001b[0m     \u001b[39mreturn\u001b[39;00m \u001b[39mcls\u001b[39;49m\u001b[39m.\u001b[39;49mfetch(channels, start, end, pad\u001b[39m=\u001b[39;49mpad, scaled\u001b[39m=\u001b[39;49mscaled,\n\u001b[1;32m   1414\u001b[0m                      dtype\u001b[39m=\u001b[39;49mdtype, allow_tape\u001b[39m=\u001b[39;49mallow_tape,\n\u001b[1;32m   1415\u001b[0m                      verbose\u001b[39m=\u001b[39;49mverbose, \u001b[39m*\u001b[39;49m\u001b[39m*\u001b[39;49mkwargs)\n\u001b[1;32m   1416\u001b[0m \u001b[39mexcept\u001b[39;00m \u001b[39mRuntimeError\u001b[39;00m \u001b[39mas\u001b[39;00m exc:\n\u001b[1;32m   1417\u001b[0m     \u001b[39m# if all else fails, try and get each channel individually\u001b[39;00m\n\u001b[1;32m   1418\u001b[0m     \u001b[39mif\u001b[39;00m \u001b[39mlen\u001b[39m(channels) \u001b[39m==\u001b[39m \u001b[39m1\u001b[39m:\n",
      "File \u001b[0;32m~/Documents/mambaforge/lib/python3.10/site-packages/gwpy/timeseries/core.py:1135\u001b[0m, in \u001b[0;36mTimeSeriesBaseDict.fetch\u001b[0;34m(cls, channels, start, end, host, port, verify, verbose, connection, pad, scaled, allow_tape, type, dtype)\u001b[0m\n\u001b[1;32m   1133\u001b[0m \u001b[39mfor\u001b[39;00m host_, port_ \u001b[39min\u001b[39;00m hostlist:\n\u001b[1;32m   1134\u001b[0m     \u001b[39mtry\u001b[39;00m:\n\u001b[0;32m-> 1135\u001b[0m         \u001b[39mreturn\u001b[39;00m \u001b[39mcls\u001b[39;49m\u001b[39m.\u001b[39;49mfetch(channels, start, end, host\u001b[39m=\u001b[39;49mhost_,\n\u001b[1;32m   1136\u001b[0m                          port\u001b[39m=\u001b[39;49mport_, verbose\u001b[39m=\u001b[39;49mverbose,\n\u001b[1;32m   1137\u001b[0m                          \u001b[39mtype\u001b[39;49m\u001b[39m=\u001b[39;49m\u001b[39mtype\u001b[39;49m, dtype\u001b[39m=\u001b[39;49mdtype, pad\u001b[39m=\u001b[39;49mpad,\n\u001b[1;32m   1138\u001b[0m                          scaled\u001b[39m=\u001b[39;49mscaled, allow_tape\u001b[39m=\u001b[39;49mallow_tape_)\n\u001b[1;32m   1139\u001b[0m     \u001b[39mexcept\u001b[39;00m (\u001b[39mRuntimeError\u001b[39;00m, \u001b[39mValueError\u001b[39;00m) \u001b[39mas\u001b[39;00m exc:\n\u001b[1;32m   1140\u001b[0m         error \u001b[39m=\u001b[39m \u001b[39mstr\u001b[39m(exc)  \u001b[39m# need to assign to take out of scope\u001b[39;00m\n",
      "File \u001b[0;32m~/Documents/mambaforge/lib/python3.10/site-packages/gwpy/timeseries/core.py:1117\u001b[0m, in \u001b[0;36mTimeSeriesBaseDict.fetch\u001b[0;34m(cls, channels, start, end, host, port, verify, verbose, connection, pad, scaled, allow_tape, type, dtype)\u001b[0m\n\u001b[1;32m   1114\u001b[0m \u001b[39mif\u001b[39;00m connection \u001b[39mis\u001b[39;00m \u001b[39mNone\u001b[39;00m \u001b[39mand\u001b[39;00m host \u001b[39mis\u001b[39;00m \u001b[39mnot\u001b[39;00m \u001b[39mNone\u001b[39;00m:\n\u001b[1;32m   1115\u001b[0m     print_verbose(\u001b[39m\"\u001b[39m\u001b[39mOpening new connection to \u001b[39m\u001b[39m{0}\u001b[39;00m\u001b[39m...\u001b[39m\u001b[39m\"\u001b[39m\u001b[39m.\u001b[39mformat(host),\n\u001b[1;32m   1116\u001b[0m                   end\u001b[39m=\u001b[39m\u001b[39m'\u001b[39m\u001b[39m \u001b[39m\u001b[39m'\u001b[39m, verbose\u001b[39m=\u001b[39mverbose)\n\u001b[0;32m-> 1117\u001b[0m     connection \u001b[39m=\u001b[39m io_nds2\u001b[39m.\u001b[39;49mauth_connect(host, port)\n\u001b[1;32m   1118\u001b[0m     print_verbose(\u001b[39m'\u001b[39m\u001b[39mconnected\u001b[39m\u001b[39m'\u001b[39m, verbose\u001b[39m=\u001b[39mverbose)\n\u001b[1;32m   1119\u001b[0m \u001b[39m# otherwise cycle through connections in logical order\u001b[39;00m\n",
      "File \u001b[0;32m~/Documents/mambaforge/lib/python3.10/site-packages/gwpy/io/nds2.py:340\u001b[0m, in \u001b[0;36mauth_connect\u001b[0;34m(host, port)\u001b[0m\n\u001b[1;32m    321\u001b[0m \u001b[39m\u001b[39m\u001b[39m\"\"\"Open an `nds2.connection` handling simple authentication errors\u001b[39;00m\n\u001b[1;32m    322\u001b[0m \n\u001b[1;32m    323\u001b[0m \u001b[39mThis method will catch exceptions related to kerberos authentication,\u001b[39;00m\n\u001b[0;32m   (...)\u001b[0m\n\u001b[1;32m    337\u001b[0m \u001b[39m    a new open connection to the given NDS host\u001b[39;00m\n\u001b[1;32m    338\u001b[0m \u001b[39m\"\"\"\u001b[39;00m\n\u001b[1;32m    339\u001b[0m \u001b[39mtry\u001b[39;00m:\n\u001b[0;32m--> 340\u001b[0m     \u001b[39mreturn\u001b[39;00m connect(host, port)\n\u001b[1;32m    341\u001b[0m \u001b[39mexcept\u001b[39;00m \u001b[39mRuntimeError\u001b[39;00m \u001b[39mas\u001b[39;00m exc:\n\u001b[1;32m    342\u001b[0m     \u001b[39mif\u001b[39;00m \u001b[39m'\u001b[39m\u001b[39mRequest SASL authentication\u001b[39m\u001b[39m'\u001b[39m \u001b[39mnot\u001b[39;00m \u001b[39min\u001b[39;00m \u001b[39mstr\u001b[39m(exc):\n",
      "File \u001b[0;32m~/Documents/mambaforge/lib/python3.10/site-packages/gwpy/io/nds2.py:308\u001b[0m, in \u001b[0;36mconnect\u001b[0;34m(host, port)\u001b[0m\n\u001b[1;32m    292\u001b[0m \u001b[39mdef\u001b[39;00m \u001b[39mconnect\u001b[39m(host, port\u001b[39m=\u001b[39m\u001b[39mNone\u001b[39;00m):\n\u001b[1;32m    293\u001b[0m \u001b[39m    \u001b[39m\u001b[39m\"\"\"Open an `nds2.connection` to a given host and port\u001b[39;00m\n\u001b[1;32m    294\u001b[0m \n\u001b[1;32m    295\u001b[0m \u001b[39m    Parameters\u001b[39;00m\n\u001b[0;32m   (...)\u001b[0m\n\u001b[1;32m    306\u001b[0m \u001b[39m        a new open connection to the given NDS host\u001b[39;00m\n\u001b[1;32m    307\u001b[0m \u001b[39m    \"\"\"\u001b[39;00m\n\u001b[0;32m--> 308\u001b[0m     \u001b[39mimport\u001b[39;00m \u001b[39mnds2\u001b[39;00m\n\u001b[1;32m    309\u001b[0m     \u001b[39m# pylint: disable=no-member\u001b[39;00m\n\u001b[1;32m    310\u001b[0m \n\u001b[1;32m    311\u001b[0m     \u001b[39m# set default port for NDS1 connections (required, I think)\u001b[39;00m\n\u001b[1;32m    312\u001b[0m     \u001b[39mif\u001b[39;00m port \u001b[39mis\u001b[39;00m \u001b[39mNone\u001b[39;00m \u001b[39mand\u001b[39;00m NDS1_HOSTNAME\u001b[39m.\u001b[39mmatch(host):\n",
      "\u001b[0;31mModuleNotFoundError\u001b[0m: No module named 'nds2'"
     ]
    }
   ],
   "source": [
    "from gwpy.timeseries import TimeSeries\n",
    "gwdata = TimeSeries.get('H1:LDAS-STRAIN', 'September 16 2010 06:40','September 16 2010 06:50')\n",
    "specgram = gwdata.spectrogram(20, fftlength=8, overlap=4) ** (1/2.)\n",
    "\n",
    "plot = specgram.plot(norm='log', vmin=1e-23, vmax=1e-19)\n",
    "ax = plot.gca()\n",
    "ax.set_ylim(40, 4000)\n",
    "ax.set_yscale('log')\n",
    "ax.colorbar(label='GW strain ASD [strain/$\\sqrt{\\mathrm{Hz}}$]')\n",
    "plt.show()"
   ]
  },
  {
   "cell_type": "code",
   "execution_count": null,
   "metadata": {},
   "outputs": [],
   "source": []
  },
  {
   "cell_type": "code",
   "execution_count": null,
   "metadata": {},
   "outputs": [],
   "source": []
  }
 ],
 "metadata": {
  "kernelspec": {
   "display_name": "base",
   "language": "python",
   "name": "python3"
  },
  "language_info": {
   "codemirror_mode": {
    "name": "ipython",
    "version": 3
   },
   "file_extension": ".py",
   "mimetype": "text/x-python",
   "name": "python",
   "nbconvert_exporter": "python",
   "pygments_lexer": "ipython3",
   "version": "3.10.12"
  }
 },
 "nbformat": 4,
 "nbformat_minor": 2
}
